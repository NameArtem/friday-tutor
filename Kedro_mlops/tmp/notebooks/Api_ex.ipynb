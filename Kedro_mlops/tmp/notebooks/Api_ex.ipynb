{
 "cells": [
  {
   "cell_type": "code",
   "execution_count": 73,
   "metadata": {},
   "outputs": [
    {
     "name": "stderr",
     "output_type": "stream",
     "text": [
      "c:\\program files\\python38\\lib\\site-packages\\ipykernel\\ipkernel.py:287: DeprecationWarning: `should_run_async` will not call `transform_cell` automatically in the future. Please pass the result to `transformed_cell` argument and any exception that happen during thetransform in `preprocessing_exc_tuple` in IPython 7.17 and above.\n",
      "  and should_run_async(code)\n"
     ]
    }
   ],
   "source": [
    "from kedro.context import load_context\n",
    "\n",
    "context = load_context(\"../\")\n",
    "catalog = context.catalog\n",
    "\n",
    "from kedro.extras.datasets.api import APIDataSet\n",
    "import json"
   ]
  },
  {
   "cell_type": "code",
   "execution_count": 74,
   "metadata": {},
   "outputs": [],
   "source": [
    "st = APIDataSet(\n",
    "        url= \"http://127.0.0.1:9876/data\",\n",
    "        headers={\"content-type\": \"application/json\"},\n",
    ")"
   ]
  },
  {
   "cell_type": "code",
   "execution_count": 90,
   "metadata": {},
   "outputs": [
    {
     "data": {
      "text/plain": [
       "<Response [200]>"
      ]
     },
     "execution_count": 90,
     "metadata": {},
     "output_type": "execute_result"
    }
   ],
   "source": [
    "st.load()\n",
    "# запомним номер ячейки jupyter"
   ]
  },
  {
   "cell_type": "code",
   "execution_count": 91,
   "metadata": {},
   "outputs": [
    {
     "data": {
      "text/plain": [
       "b'{\"index\":43,\"data\":{\"Hour_cosine\":-0.06824241336467046,\"Hour_sine\":-0.9976687691905392,\"Day_of_week_cosine\":1.0,\"Day_of_week_sine\":-2.4492935982947064e-16,\"Is_weekday\":0,\"Is_night\":0,\"Season_cosine\":-0.4999999999999998,\"Season_sine\":0.8660254037844387,\"net_rate_previous_hour\":0.0,\"Dock_Count\":15,\"Fog\":0,\"Fog-Rain\":0,\"Clear\":1,\"Rain\":0,\"Rain-Thunderstorm\":0,\"CloudCover\":1.0,\"PrecipitationIn\":0.0,\"WindDirDegrees\":212.0,\"Max Dew PointF\":46.0,\"Max Gust SpeedMPH\":19.33333333333333,\"Max Humidity\":100.0,\"Max Sea Level PressureIn\":30.02,\"Max TemperatureF\":62.0,\"Max VisibilityMiles\":10.0,\"Max Wind SpeedMPH\":10.0,\"Mean Humidity\":74.0,\"Mean Sea Level PressureIn\":29.96,\"Mean TemperatureF\":52.0,\"Mean VisibilityMiles\":10.0,\"Mean Wind SpeedMPH\":2.0,\"MeanDew PointF\":41.0,\"Min DewpointF\":34.0,\"Min Humidity\":37.0,\"Min Sea Level PressureIn\":29.92,\"Min TemperatureF\":42.0,\"Min VisibilityMiles\":10.0,\"Zip_94041\":0,\"Zip_94063\":1,\"Zip_94107\":0,\"Zip_94301\":0,\"Zip_95113\":0}}'"
      ]
     },
     "execution_count": 91,
     "metadata": {},
     "output_type": "execute_result"
    }
   ],
   "source": [
    "_90.content"
   ]
  },
  {
   "cell_type": "code",
   "execution_count": 92,
   "metadata": {},
   "outputs": [
    {
     "data": {
      "text/plain": [
       "{'index': 43,\n",
       " 'data': {'Hour_cosine': -0.06824241336467046,\n",
       "  'Hour_sine': -0.9976687691905392,\n",
       "  'Day_of_week_cosine': 1.0,\n",
       "  'Day_of_week_sine': -2.4492935982947064e-16,\n",
       "  'Is_weekday': 0,\n",
       "  'Is_night': 0,\n",
       "  'Season_cosine': -0.4999999999999998,\n",
       "  'Season_sine': 0.8660254037844387,\n",
       "  'net_rate_previous_hour': 0.0,\n",
       "  'Dock_Count': 15,\n",
       "  'Fog': 0,\n",
       "  'Fog-Rain': 0,\n",
       "  'Clear': 1,\n",
       "  'Rain': 0,\n",
       "  'Rain-Thunderstorm': 0,\n",
       "  'CloudCover': 1.0,\n",
       "  'PrecipitationIn': 0.0,\n",
       "  'WindDirDegrees': 212.0,\n",
       "  'Max Dew PointF': 46.0,\n",
       "  'Max Gust SpeedMPH': 19.33333333333333,\n",
       "  'Max Humidity': 100.0,\n",
       "  'Max Sea Level PressureIn': 30.02,\n",
       "  'Max TemperatureF': 62.0,\n",
       "  'Max VisibilityMiles': 10.0,\n",
       "  'Max Wind SpeedMPH': 10.0,\n",
       "  'Mean Humidity': 74.0,\n",
       "  'Mean Sea Level PressureIn': 29.96,\n",
       "  'Mean TemperatureF': 52.0,\n",
       "  'Mean VisibilityMiles': 10.0,\n",
       "  'Mean Wind SpeedMPH': 2.0,\n",
       "  'MeanDew PointF': 41.0,\n",
       "  'Min DewpointF': 34.0,\n",
       "  'Min Humidity': 37.0,\n",
       "  'Min Sea Level PressureIn': 29.92,\n",
       "  'Min TemperatureF': 42.0,\n",
       "  'Min VisibilityMiles': 10.0,\n",
       "  'Zip_94041': 0,\n",
       "  'Zip_94063': 1,\n",
       "  'Zip_94107': 0,\n",
       "  'Zip_94301': 0,\n",
       "  'Zip_95113': 0}}"
      ]
     },
     "execution_count": 92,
     "metadata": {},
     "output_type": "execute_result"
    }
   ],
   "source": [
    "_90.json()"
   ]
  },
  {
   "cell_type": "code",
   "execution_count": 93,
   "metadata": {},
   "outputs": [
    {
     "data": {
      "text/plain": [
       "{'date': 'Sun, 22 Nov 2020 14:34:13 GMT', 'server': 'uvicorn', 'content-length': '962', 'content-type': 'application/json'}"
      ]
     },
     "execution_count": 93,
     "metadata": {},
     "output_type": "execute_result"
    }
   ],
   "source": [
    "_90.headers"
   ]
  },
  {
   "cell_type": "code",
   "execution_count": 94,
   "metadata": {},
   "outputs": [
    {
     "data": {
      "text/html": [
       "<div>\n",
       "<style scoped>\n",
       "    .dataframe tbody tr th:only-of-type {\n",
       "        vertical-align: middle;\n",
       "    }\n",
       "\n",
       "    .dataframe tbody tr th {\n",
       "        vertical-align: top;\n",
       "    }\n",
       "\n",
       "    .dataframe thead th {\n",
       "        text-align: right;\n",
       "    }\n",
       "</style>\n",
       "<table border=\"1\" class=\"dataframe\">\n",
       "  <thead>\n",
       "    <tr style=\"text-align: right;\">\n",
       "      <th></th>\n",
       "      <th>Hour_cosine</th>\n",
       "      <th>Hour_sine</th>\n",
       "      <th>Day_of_week_cosine</th>\n",
       "      <th>Day_of_week_sine</th>\n",
       "      <th>Is_weekday</th>\n",
       "      <th>Is_night</th>\n",
       "      <th>Season_cosine</th>\n",
       "      <th>Season_sine</th>\n",
       "      <th>net_rate_previous_hour</th>\n",
       "      <th>Dock_Count</th>\n",
       "      <th>...</th>\n",
       "      <th>Min DewpointF</th>\n",
       "      <th>Min Humidity</th>\n",
       "      <th>Min Sea Level PressureIn</th>\n",
       "      <th>Min TemperatureF</th>\n",
       "      <th>Min VisibilityMiles</th>\n",
       "      <th>Zip_94041</th>\n",
       "      <th>Zip_94063</th>\n",
       "      <th>Zip_94107</th>\n",
       "      <th>Zip_94301</th>\n",
       "      <th>Zip_95113</th>\n",
       "    </tr>\n",
       "  </thead>\n",
       "  <tbody>\n",
       "    <tr>\n",
       "      <th>0</th>\n",
       "      <td>-0.068242</td>\n",
       "      <td>-0.997669</td>\n",
       "      <td>1.0</td>\n",
       "      <td>-2.449294e-16</td>\n",
       "      <td>0.0</td>\n",
       "      <td>0.0</td>\n",
       "      <td>-0.5</td>\n",
       "      <td>0.866025</td>\n",
       "      <td>0.0</td>\n",
       "      <td>15.0</td>\n",
       "      <td>...</td>\n",
       "      <td>34.0</td>\n",
       "      <td>37.0</td>\n",
       "      <td>29.92</td>\n",
       "      <td>42.0</td>\n",
       "      <td>10.0</td>\n",
       "      <td>0.0</td>\n",
       "      <td>1.0</td>\n",
       "      <td>0.0</td>\n",
       "      <td>0.0</td>\n",
       "      <td>0.0</td>\n",
       "    </tr>\n",
       "  </tbody>\n",
       "</table>\n",
       "<p>1 rows × 41 columns</p>\n",
       "</div>"
      ],
      "text/plain": [
       "   Hour_cosine  Hour_sine  Day_of_week_cosine  Day_of_week_sine  Is_weekday  \\\n",
       "0    -0.068242  -0.997669                 1.0     -2.449294e-16         0.0   \n",
       "\n",
       "   Is_night  Season_cosine  Season_sine  net_rate_previous_hour  Dock_Count  \\\n",
       "0       0.0           -0.5     0.866025                     0.0        15.0   \n",
       "\n",
       "   ...  Min DewpointF  Min Humidity  Min Sea Level PressureIn  \\\n",
       "0  ...           34.0          37.0                     29.92   \n",
       "\n",
       "   Min TemperatureF  Min VisibilityMiles  Zip_94041  Zip_94063  Zip_94107  \\\n",
       "0              42.0                 10.0        0.0        1.0        0.0   \n",
       "\n",
       "   Zip_94301  Zip_95113  \n",
       "0        0.0        0.0  \n",
       "\n",
       "[1 rows x 41 columns]"
      ]
     },
     "execution_count": 94,
     "metadata": {},
     "output_type": "execute_result"
    }
   ],
   "source": [
    "# предикт в DF\n",
    "df = pd.DataFrame.from_dict(_90.json()['data'], orient='index').T\n",
    "df"
   ]
  },
  {
   "cell_type": "code",
   "execution_count": 95,
   "metadata": {},
   "outputs": [
    {
     "name": "stdout",
     "output_type": "stream",
     "text": [
      "2020-11-22 17:34:49,321 - kedro.io.data_catalog - INFO - Loading data from `rf_model` (PickleDataSet)...\n"
     ]
    },
    {
     "name": "stderr",
     "output_type": "stream",
     "text": [
      "c:\\program files\\python38\\lib\\site-packages\\ipykernel\\ipkernel.py:287: DeprecationWarning: `should_run_async` will not call `transform_cell` automatically in the future. Please pass the result to `transformed_cell` argument and any exception that happen during thetransform in `preprocessing_exc_tuple` in IPython 7.17 and above.\n",
      "  and should_run_async(code)\n"
     ]
    }
   ],
   "source": [
    "# получаем модель\n",
    "rf_model = catalog.load(\"rf_model\")"
   ]
  },
  {
   "cell_type": "code",
   "execution_count": 96,
   "metadata": {},
   "outputs": [
    {
     "data": {
      "text/plain": [
       "array([-0.00501263])"
      ]
     },
     "execution_count": 96,
     "metadata": {},
     "output_type": "execute_result"
    }
   ],
   "source": [
    "# предикт\n",
    "rf_model.predict(df)"
   ]
  },
  {
   "cell_type": "code",
   "execution_count": 99,
   "metadata": {},
   "outputs": [
    {
     "name": "stderr",
     "output_type": "stream",
     "text": [
      "c:\\program files\\python38\\lib\\site-packages\\ipykernel\\ipkernel.py:287: DeprecationWarning: `should_run_async` will not call `transform_cell` automatically in the future. Please pass the result to `transformed_cell` argument and any exception that happen during thetransform in `preprocessing_exc_tuple` in IPython 7.17 and above.\n",
      "  and should_run_async(code)\n"
     ]
    },
    {
     "data": {
      "text/plain": [
       "{'predict_date': 'Sun, 22 Nov 2020 14:34:13 GMT',\n",
       " 'row_index': 43,\n",
       " 'predict': -0.005012632232393989}"
      ]
     },
     "execution_count": 99,
     "metadata": {},
     "output_type": "execute_result"
    }
   ],
   "source": [
    "answer = {\"predict_date\": _90.headers['date'], \n",
    "          \"row_index\": _90.json()['index'],\n",
    "          \"predict\": float(rf_model.predict(df))\n",
    "         }\n",
    "answer"
   ]
  },
  {
   "cell_type": "code",
   "execution_count": null,
   "metadata": {},
   "outputs": [],
   "source": []
  }
 ],
 "metadata": {
  "kernelspec": {
   "display_name": "bike",
   "language": "python",
   "name": "python3"
  },
  "language_info": {
   "codemirror_mode": {
    "name": "ipython",
    "version": 3
   },
   "file_extension": ".py",
   "mimetype": "text/x-python",
   "name": "python",
   "nbconvert_exporter": "python",
   "pygments_lexer": "ipython3",
   "version": "3.8.6"
  }
 },
 "nbformat": 4,
 "nbformat_minor": 4
}
