{
 "cells": [
  {
   "cell_type": "code",
   "execution_count": 3,
   "metadata": {},
   "outputs": [
    {
     "data": {
      "text/plain": [
       "{'de': Pipeline([\n",
       " Node(preparator, ['station_data', 'trip_data', 'weather_data', 'params:station_nes_names', 'params:zip_code', 'params:trip_nes_names', 'params:map_id'], ['clean_station_data', 'clean_trip_data', 'clean_weather_data'], None),\n",
       " Node(cleanning, ['clean_weather_data'], 'clean_weather_data_new', None),\n",
       " Node(index_creator, ['clean_station_data', 'params:mind', 'params:maxd', 'params:freq'], 'idx', None),\n",
       " Node(resample, ['clean_trip_data', 'idx', 'params:resample_list', 'params:freq'], 'resample_df', None),\n",
       " Node(transform, ['resample_df', 'clean_station_data', 'clean_weather_data_new', 'clean_trip_data', 'idx'], 'df_agg', None),\n",
       " Node(split, ['df_agg', 'params:seed'], ['train_x', 'train_y', 'test_x', 'test_y'], None)\n",
       " ]),\n",
       " 'ds': Pipeline([]),\n",
       " '__default__': Pipeline([\n",
       " Node(preparator, ['station_data', 'trip_data', 'weather_data', 'params:station_nes_names', 'params:zip_code', 'params:trip_nes_names', 'params:map_id'], ['clean_station_data', 'clean_trip_data', 'clean_weather_data'], None),\n",
       " Node(cleanning, ['clean_weather_data'], 'clean_weather_data_new', None),\n",
       " Node(index_creator, ['clean_station_data', 'params:mind', 'params:maxd', 'params:freq'], 'idx', None),\n",
       " Node(resample, ['clean_trip_data', 'idx', 'params:resample_list', 'params:freq'], 'resample_df', None),\n",
       " Node(transform, ['resample_df', 'clean_station_data', 'clean_weather_data_new', 'clean_trip_data', 'idx'], 'df_agg', None),\n",
       " Node(split, ['df_agg', 'params:seed'], ['train_x', 'train_y', 'test_x', 'test_y'], None)\n",
       " ])}"
      ]
     },
     "execution_count": 3,
     "metadata": {},
     "output_type": "execute_result"
    }
   ],
   "source": [
    "context.pipelines"
   ]
  },
  {
   "cell_type": "code",
   "execution_count": 5,
   "metadata": {},
   "outputs": [
    {
     "data": {
      "text/plain": [
       "['station_data',\n",
       " 'trip_data',\n",
       " 'weather_data',\n",
       " 'clean_data',\n",
       " 'parameters',\n",
       " 'params:best_params',\n",
       " 'params:best_params.criterion',\n",
       " 'params:best_params.max_depth',\n",
       " 'params:best_params.min_samples_leaf',\n",
       " 'params:best_params.min_samples_split',\n",
       " 'params:best_params.n_estimators',\n",
       " 'params:best_params.n_jobs',\n",
       " 'params:best_params.random_state',\n",
       " 'params:seed',\n",
       " 'params:verbose',\n",
       " 'params:station_nes_names',\n",
       " 'params:zip_code',\n",
       " 'params:zip_code.San Francisco',\n",
       " 'params:zip_code.Redwood City',\n",
       " 'params:zip_code.Palo Alto',\n",
       " 'params:zip_code.Mountain View',\n",
       " 'params:zip_code.San Jose',\n",
       " 'params:trip_nes_names',\n",
       " 'params:map_id',\n",
       " 'params:map_id.85',\n",
       " 'params:map_id.86',\n",
       " 'params:map_id.87',\n",
       " 'params:map_id.88',\n",
       " 'params:map_id.89',\n",
       " 'params:map_id.90',\n",
       " 'params:mind',\n",
       " 'params:maxd',\n",
       " 'params:freq',\n",
       " 'params:resample_list']"
      ]
     },
     "execution_count": 5,
     "metadata": {},
     "output_type": "execute_result"
    }
   ],
   "source": [
    "catalog.list()"
   ]
  },
  {
   "cell_type": "code",
   "execution_count": 8,
   "metadata": {},
   "outputs": [
    {
     "name": "stdout",
     "output_type": "stream",
     "text": [
      "2020-11-19 20:49:45,488 - kedro.io.data_catalog - INFO - Loading data from `station_data` (CSVDataSet)...\n"
     ]
    },
    {
     "name": "stderr",
     "output_type": "stream",
     "text": [
      "c:\\program files\\python38\\lib\\site-packages\\ipykernel\\ipkernel.py:287: DeprecationWarning: `should_run_async` will not call `transform_cell` automatically in the future. Please pass the result to `transformed_cell` argument and any exception that happen during thetransform in `preprocessing_exc_tuple` in IPython 7.17 and above.\n",
      "  and should_run_async(code)\n"
     ]
    },
    {
     "data": {
      "text/html": [
       "<div>\n",
       "<style scoped>\n",
       "    .dataframe tbody tr th:only-of-type {\n",
       "        vertical-align: middle;\n",
       "    }\n",
       "\n",
       "    .dataframe tbody tr th {\n",
       "        vertical-align: top;\n",
       "    }\n",
       "\n",
       "    .dataframe thead th {\n",
       "        text-align: right;\n",
       "    }\n",
       "</style>\n",
       "<table border=\"1\" class=\"dataframe\">\n",
       "  <thead>\n",
       "    <tr style=\"text-align: right;\">\n",
       "      <th></th>\n",
       "      <th>lat</th>\n",
       "      <th>long</th>\n",
       "    </tr>\n",
       "  </thead>\n",
       "  <tbody>\n",
       "    <tr>\n",
       "      <th>0</th>\n",
       "      <td>37.329732</td>\n",
       "      <td>-121.901782</td>\n",
       "    </tr>\n",
       "    <tr>\n",
       "      <th>1</th>\n",
       "      <td>37.330698</td>\n",
       "      <td>-121.888979</td>\n",
       "    </tr>\n",
       "    <tr>\n",
       "      <th>2</th>\n",
       "      <td>37.333988</td>\n",
       "      <td>-121.894902</td>\n",
       "    </tr>\n",
       "    <tr>\n",
       "      <th>3</th>\n",
       "      <td>37.331415</td>\n",
       "      <td>-121.893200</td>\n",
       "    </tr>\n",
       "    <tr>\n",
       "      <th>4</th>\n",
       "      <td>37.336721</td>\n",
       "      <td>-121.894074</td>\n",
       "    </tr>\n",
       "  </tbody>\n",
       "</table>\n",
       "</div>"
      ],
      "text/plain": [
       "         lat        long\n",
       "0  37.329732 -121.901782\n",
       "1  37.330698 -121.888979\n",
       "2  37.333988 -121.894902\n",
       "3  37.331415 -121.893200\n",
       "4  37.336721 -121.894074"
      ]
     },
     "execution_count": 8,
     "metadata": {},
     "output_type": "execute_result"
    }
   ],
   "source": [
    "catalog.load('station_data').head()[['lat', 'long']]"
   ]
  },
  {
   "cell_type": "code",
   "execution_count": null,
   "metadata": {},
   "outputs": [],
   "source": []
  }
 ],
 "metadata": {
  "kernelspec": {
   "display_name": "bike",
   "language": "python",
   "name": "python3"
  },
  "language_info": {
   "codemirror_mode": {
    "name": "ipython",
    "version": 3
   },
   "file_extension": ".py",
   "mimetype": "text/x-python",
   "name": "python",
   "nbconvert_exporter": "python",
   "pygments_lexer": "ipython3",
   "version": "3.8.6"
  }
 },
 "nbformat": 4,
 "nbformat_minor": 4
}
