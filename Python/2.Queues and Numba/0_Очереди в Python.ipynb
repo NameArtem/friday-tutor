{
 "cells": [
  {
   "cell_type": "markdown",
   "id": "55d91234",
   "metadata": {},
   "source": [
    "## Queue"
   ]
  },
  {
   "cell_type": "code",
   "execution_count": 39,
   "id": "18580e87",
   "metadata": {},
   "outputs": [],
   "source": [
    "import queue\n",
    "import threading\n",
    "\n",
    "import random"
   ]
  },
  {
   "cell_type": "code",
   "execution_count": 42,
   "id": "70843309",
   "metadata": {},
   "outputs": [],
   "source": [
    "class Job(object):\n",
    "    \n",
    "    def __init__(self, priority, description):\n",
    "        self.priority = priority\n",
    "        self.description = description\n",
    "        \n",
    "        print('Новая задача', description)\n",
    "        \n",
    "        return\n",
    "    \n",
    "    def __cmp__(self, other):\n",
    "        return cmp(self.priority, other.priority)\n",
    "    \n",
    "#     def __lt__(self, other):\n",
    "#         return self+other > other+self\n",
    "    \n",
    "#     def __gt__(self, other):\n",
    "#         return self+other < other+self"
   ]
  },
  {
   "cell_type": "code",
   "execution_count": 43,
   "id": "cce36073",
   "metadata": {},
   "outputs": [
    {
     "name": "stdout",
     "output_type": "stream",
     "text": [
      "Новая задача Mid-level job\n",
      "Новая задача High-level job\n"
     ]
    },
    {
     "ename": "TypeError",
     "evalue": "unsupported operand type(s) for +: 'Job' and 'Job'",
     "output_type": "error",
     "traceback": [
      "\u001b[1;31m---------------------------------------------------------------------------\u001b[0m",
      "\u001b[1;31mTypeError\u001b[0m                                 Traceback (most recent call last)",
      "\u001b[1;32m<ipython-input-43-fb8786a6fe26>\u001b[0m in \u001b[0;36m<module>\u001b[1;34m\u001b[0m\n\u001b[0;32m      2\u001b[0m \u001b[1;33m\u001b[0m\u001b[0m\n\u001b[0;32m      3\u001b[0m \u001b[0mq\u001b[0m\u001b[1;33m.\u001b[0m\u001b[0mput\u001b[0m\u001b[1;33m(\u001b[0m\u001b[0mJob\u001b[0m\u001b[1;33m(\u001b[0m\u001b[1;36m3\u001b[0m\u001b[1;33m,\u001b[0m \u001b[1;34m'Mid-level job'\u001b[0m\u001b[1;33m)\u001b[0m\u001b[1;33m)\u001b[0m\u001b[1;33m\u001b[0m\u001b[1;33m\u001b[0m\u001b[0m\n\u001b[1;32m----> 4\u001b[1;33m \u001b[0mq\u001b[0m\u001b[1;33m.\u001b[0m\u001b[0mput\u001b[0m\u001b[1;33m(\u001b[0m\u001b[0mJob\u001b[0m\u001b[1;33m(\u001b[0m\u001b[1;36m10\u001b[0m\u001b[1;33m,\u001b[0m \u001b[1;34m'High-level job'\u001b[0m\u001b[1;33m)\u001b[0m\u001b[1;33m)\u001b[0m\u001b[1;33m\u001b[0m\u001b[1;33m\u001b[0m\u001b[0m\n\u001b[0m",
      "\u001b[1;32m~\\anaconda3\\lib\\queue.py\u001b[0m in \u001b[0;36mput\u001b[1;34m(self, item, block, timeout)\u001b[0m\n\u001b[0;32m    147\u001b[0m                             \u001b[1;32mraise\u001b[0m \u001b[0mFull\u001b[0m\u001b[1;33m\u001b[0m\u001b[1;33m\u001b[0m\u001b[0m\n\u001b[0;32m    148\u001b[0m                         \u001b[0mself\u001b[0m\u001b[1;33m.\u001b[0m\u001b[0mnot_full\u001b[0m\u001b[1;33m.\u001b[0m\u001b[0mwait\u001b[0m\u001b[1;33m(\u001b[0m\u001b[0mremaining\u001b[0m\u001b[1;33m)\u001b[0m\u001b[1;33m\u001b[0m\u001b[1;33m\u001b[0m\u001b[0m\n\u001b[1;32m--> 149\u001b[1;33m             \u001b[0mself\u001b[0m\u001b[1;33m.\u001b[0m\u001b[0m_put\u001b[0m\u001b[1;33m(\u001b[0m\u001b[0mitem\u001b[0m\u001b[1;33m)\u001b[0m\u001b[1;33m\u001b[0m\u001b[1;33m\u001b[0m\u001b[0m\n\u001b[0m\u001b[0;32m    150\u001b[0m             \u001b[0mself\u001b[0m\u001b[1;33m.\u001b[0m\u001b[0munfinished_tasks\u001b[0m \u001b[1;33m+=\u001b[0m \u001b[1;36m1\u001b[0m\u001b[1;33m\u001b[0m\u001b[1;33m\u001b[0m\u001b[0m\n\u001b[0;32m    151\u001b[0m             \u001b[0mself\u001b[0m\u001b[1;33m.\u001b[0m\u001b[0mnot_empty\u001b[0m\u001b[1;33m.\u001b[0m\u001b[0mnotify\u001b[0m\u001b[1;33m(\u001b[0m\u001b[1;33m)\u001b[0m\u001b[1;33m\u001b[0m\u001b[1;33m\u001b[0m\u001b[0m\n",
      "\u001b[1;32m~\\anaconda3\\lib\\queue.py\u001b[0m in \u001b[0;36m_put\u001b[1;34m(self, item)\u001b[0m\n\u001b[0;32m    231\u001b[0m \u001b[1;33m\u001b[0m\u001b[0m\n\u001b[0;32m    232\u001b[0m     \u001b[1;32mdef\u001b[0m \u001b[0m_put\u001b[0m\u001b[1;33m(\u001b[0m\u001b[0mself\u001b[0m\u001b[1;33m,\u001b[0m \u001b[0mitem\u001b[0m\u001b[1;33m)\u001b[0m\u001b[1;33m:\u001b[0m\u001b[1;33m\u001b[0m\u001b[1;33m\u001b[0m\u001b[0m\n\u001b[1;32m--> 233\u001b[1;33m         \u001b[0mheappush\u001b[0m\u001b[1;33m(\u001b[0m\u001b[0mself\u001b[0m\u001b[1;33m.\u001b[0m\u001b[0mqueue\u001b[0m\u001b[1;33m,\u001b[0m \u001b[0mitem\u001b[0m\u001b[1;33m)\u001b[0m\u001b[1;33m\u001b[0m\u001b[1;33m\u001b[0m\u001b[0m\n\u001b[0m\u001b[0;32m    234\u001b[0m \u001b[1;33m\u001b[0m\u001b[0m\n\u001b[0;32m    235\u001b[0m     \u001b[1;32mdef\u001b[0m \u001b[0m_get\u001b[0m\u001b[1;33m(\u001b[0m\u001b[0mself\u001b[0m\u001b[1;33m)\u001b[0m\u001b[1;33m:\u001b[0m\u001b[1;33m\u001b[0m\u001b[1;33m\u001b[0m\u001b[0m\n",
      "\u001b[1;32m<ipython-input-42-cb5f483fc744>\u001b[0m in \u001b[0;36m__lt__\u001b[1;34m(self, other)\u001b[0m\n\u001b[0;32m     13\u001b[0m \u001b[1;33m\u001b[0m\u001b[0m\n\u001b[0;32m     14\u001b[0m     \u001b[1;32mdef\u001b[0m \u001b[0m__lt__\u001b[0m\u001b[1;33m(\u001b[0m\u001b[0mself\u001b[0m\u001b[1;33m,\u001b[0m \u001b[0mother\u001b[0m\u001b[1;33m)\u001b[0m\u001b[1;33m:\u001b[0m\u001b[1;33m\u001b[0m\u001b[1;33m\u001b[0m\u001b[0m\n\u001b[1;32m---> 15\u001b[1;33m         \u001b[1;32mreturn\u001b[0m \u001b[0mself\u001b[0m\u001b[1;33m+\u001b[0m\u001b[0mother\u001b[0m \u001b[1;33m>\u001b[0m \u001b[0mother\u001b[0m\u001b[1;33m+\u001b[0m\u001b[0mself\u001b[0m\u001b[1;33m\u001b[0m\u001b[1;33m\u001b[0m\u001b[0m\n\u001b[0m\u001b[0;32m     16\u001b[0m \u001b[1;33m\u001b[0m\u001b[0m\n\u001b[0;32m     17\u001b[0m     \u001b[1;32mdef\u001b[0m \u001b[0m__gt__\u001b[0m\u001b[1;33m(\u001b[0m\u001b[0mself\u001b[0m\u001b[1;33m,\u001b[0m \u001b[0mother\u001b[0m\u001b[1;33m)\u001b[0m\u001b[1;33m:\u001b[0m\u001b[1;33m\u001b[0m\u001b[1;33m\u001b[0m\u001b[0m\n",
      "\u001b[1;31mTypeError\u001b[0m: unsupported operand type(s) for +: 'Job' and 'Job'"
     ]
    }
   ],
   "source": [
    "q = queue.PriorityQueue()\n",
    "\n",
    "q.put(Job(3, 'Mid-level job'))\n",
    "q.put(Job(10, 'High-level job'))"
   ]
  },
  {
   "cell_type": "code",
   "execution_count": null,
   "id": "8163b6f8",
   "metadata": {},
   "outputs": [],
   "source": [
    "def describe(x):\n",
    "    if x <= 3: \n",
    "        return \"Low-level job\"\n",
    "    if x > 3 and tsk <= 7: \n",
    "        return \"Mid-level job\"\n",
    "    if x > 7: \n",
    "        return \"High-level job\""
   ]
  },
  {
   "cell_type": "code",
   "execution_count": 46,
   "id": "10cd1fb9",
   "metadata": {},
   "outputs": [
    {
     "name": "stdout",
     "output_type": "stream",
     "text": [
      "1\n",
      "3\n",
      "10\n",
      "5\n",
      "5\n",
      "3\n",
      "7\n",
      "7\n",
      "3\n",
      "5\n"
     ]
    }
   ],
   "source": [
    "q = queue.PriorityQueue()\n",
    "\n",
    "q.put(3)\n",
    "\n",
    "for _ in range(10):\n",
    "    tsk = random.choice([1,3,5,7,10])      \n",
    "    print(tsk)    \n",
    "    q.put(tsk)"
   ]
  },
  {
   "cell_type": "code",
   "execution_count": 47,
   "id": "968eb7b1",
   "metadata": {},
   "outputs": [],
   "source": [
    "def process_j(q):\n",
    "    while True:\n",
    "        next_job = q.get()\n",
    "        \n",
    "        print(\"Задача выполняется: \", next_job, describe(next_job))\n",
    "        \n",
    "        q.task_done()"
   ]
  },
  {
   "cell_type": "code",
   "execution_count": 48,
   "id": "3d3d7ca9",
   "metadata": {},
   "outputs": [],
   "source": [
    "workers = [threading.Thread(target = process_j, args = (q,)),\n",
    "           threading.Thread(target = process_j, args = (q,))\n",
    "          ]"
   ]
  },
  {
   "cell_type": "code",
   "execution_count": 49,
   "id": "2c0f925a",
   "metadata": {},
   "outputs": [
    {
     "name": "stdout",
     "output_type": "stream",
     "text": [
      "Задача выполняется:  1 Low-level job\n",
      "Задача выполняется:  3 Low-level job\n",
      "Задача выполняется:  3 Low-level job\n",
      "Задача выполняется:  3 Low-level job\n",
      "Задача выполняется:  3 Low-level job\n",
      "Задача выполняется:  5 Mid-level job\n",
      "Задача выполняется:  Задача выполняется:  5 Mid-level job\n",
      "Задача выполняется:  7 Mid-level job\n",
      "Задача выполняется: 5  7 Mid-level job\n",
      "Задача выполняется:  10 Mid-level job\n",
      "Mid-level job\n"
     ]
    }
   ],
   "source": [
    "for worker in workers:\n",
    "    worker.setDaemon(True)\n",
    "    worker.start()\n",
    "    \n",
    "q.join()"
   ]
  },
  {
   "cell_type": "code",
   "execution_count": null,
   "id": "b6f1458a",
   "metadata": {},
   "outputs": [],
   "source": []
  }
 ],
 "metadata": {
  "kernelspec": {
   "display_name": "Python 3",
   "language": "python",
   "name": "python3"
  },
  "language_info": {
   "codemirror_mode": {
    "name": "ipython",
    "version": 3
   },
   "file_extension": ".py",
   "mimetype": "text/x-python",
   "name": "python",
   "nbconvert_exporter": "python",
   "pygments_lexer": "ipython3",
   "version": "3.8.8"
  }
 },
 "nbformat": 4,
 "nbformat_minor": 5
}
